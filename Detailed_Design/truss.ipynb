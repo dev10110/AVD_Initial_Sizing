{
 "cells": [
  {
   "cell_type": "code",
   "execution_count": 1,
   "metadata": {},
   "outputs": [],
   "source": [
    "import numpy as np\n",
    "import matplotlib.pyplot as plt"
   ]
  },
  {
   "cell_type": "code",
   "execution_count": 43,
   "metadata": {},
   "outputs": [],
   "source": [
    "class Node:\n",
    "    def __init__(self, x, y, freex=True, freey=True):\n",
    "        \n",
    "        self.x = x\n",
    "        self.y = y\n",
    "        \n",
    "        self.pos = np.array([x,y])\n",
    "        \n",
    "        self.freex = freex\n",
    "        self.freey = freey\n",
    "        \n",
    "        self.dx = 0\n",
    "        self.dy = 0\n",
    "        \n",
    "        self.fx = 0\n",
    "        self.fy = 0\n",
    "        \n",
    "    def __eq__(self, other):\n",
    "        # only checks for position, not for whether the boundarys are defined the same\n",
    "        return np.allclose(self.pos,other.pos)\n",
    "\n",
    "    def __hash__(self):\n",
    "        return hash((self.x, self.y))\n",
    "    \n",
    "    def __repr__(self):\n",
    "        return f'N({self.x:2.2f}, {self.y:2.2f})'\n",
    "    \n",
    "    def plot(self):\n",
    "        if self.freex and self.freey:\n",
    "            plt.plot(self.x, self.y,'ko')\n",
    "        elif self.freex and not self.freey:\n",
    "            plt.plot(self.x, self.y,'bo')\n",
    "        elif not self.freex and self.freey:\n",
    "            plt.plot(self.x, self.y,'go')\n",
    "        else:\n",
    "            plt.plot(self.x, self.y,'ro')\n",
    "        \n",
    "    def apply_load(self, fx, fy):\n",
    "        # adds the load to the previous value\n",
    "        self.fx += fx\n",
    "        self.fy += fy\n",
    "        \n",
    "class Bar:\n",
    "    def __init__(self, node0, node1, w=5e-3, t=6.35e-3, E=71e9):\n",
    "        \n",
    "        self.node0 = node0\n",
    "        self.node1 = node1\n",
    "        self.w = w\n",
    "        self.t = t\n",
    "        self.E = E\n",
    "        \n",
    "        # get bar length\n",
    "        self.length = l = self._length(node0, node1)\n",
    "        \n",
    "        # define the angle of the bar\n",
    "        self.theta = th = self._theta(node0, node1)\n",
    "    \n",
    "        # def e vector\n",
    "        self.e = e = np.array([np.cos(th), np.sin(th)])\n",
    "        \n",
    "        self.eeT = eeT = np.outer(e, e)\n",
    "        \n",
    "        self.nom_stiff = (1/l)*np.block([[eeT, -eeT], [-eeT, eeT]])\n",
    "        # note the actual stiffness matrix = nomStiff*(EA)\n",
    "        \n",
    "        # trim values smaller than 1e-12\n",
    "        #self.nom_stiff = np.clip(self.nom_stiff, a_min = 1e-12,a_max=None)\n",
    "    \n",
    "    def __eq__(self, other):\n",
    "        # only checks if the same nodes are used, not for material or thicknesses. \n",
    "        \n",
    "        if (self.node0 == other.node0 and self.node1 == other.node1) or (self.node0 == other.node1 and self.node1 == other.node0):\n",
    "            return True\n",
    "        else:\n",
    "            return False\n",
    "        \n",
    "    def __hash__(self):\n",
    "        return hash((self.node0, self.node1))\n",
    "    \n",
    "    def __repr__(self):\n",
    "        return f'B({self.node0}, {self.node1})'\n",
    "    \n",
    "    def plot(self):\n",
    "        nodes = [self.node0, self.node1]\n",
    "        \n",
    "        x = [n.x for n in nodes]\n",
    "        y = [n.y for n in nodes]\n",
    "        \n",
    "        xdx = [n.x+n.dx for n in nodes]\n",
    "        ydy = [n.y+n.dy for n in nodes]\n",
    "        \n",
    "        plt.plot(x, y, 'b')\n",
    "        plt.plot(xdx, ydy, 'b--')\n",
    "        \n",
    "    def EA(self):\n",
    "        return self.E * self.w * self.t\n",
    "    \n",
    "    def _theta(self, n0, n1):\n",
    "        \"\"\"Get angle of vector from n0 to n1\"\"\"\n",
    "        \n",
    "        v = n1.pos - n0.pos\n",
    "        \n",
    "        return np.arctan2(v[1], v[0])\n",
    "    \n",
    "    def _length(self, n0, n1):\n",
    "        \"\"\"Get length of vector between n0 and n1\"\"\"\n",
    "        \n",
    "        v = n1.pos - n0.pos\n",
    "        \n",
    "        return np.sqrt(np.dot(v, v))\n",
    "    \n",
    "class Truss:\n",
    "    def __init__(self, bars):\n",
    "        \n",
    "        \"\"\"Class to define a truss\"\"\"\n",
    "        \n",
    "        self.bars = list(set(bars))\n",
    "        \n",
    "        # extract nodes\n",
    "        self.nodes = nodes = self.extract_nodes(bars)\n",
    "        \n",
    "        self.defTruss = None\n",
    "        \n",
    "        \n",
    "    def solve(self):\n",
    "        # create stiffness matrix (we will delete the non-free nodes at the end)\n",
    "        # for each node, assemble the stiffness matrix\n",
    "        # 2*nodes because each node can have 2 degrees of freedom\n",
    "        nodes = self.nodes\n",
    "        bars = self.bars\n",
    "        \n",
    "        self.nom_stiff = nom_stiff = np.zeros([2*len(nodes), 2*len(nodes)])\n",
    "        \n",
    "        #print(f'Nodes: {nodes}')\n",
    "        \n",
    "        for bar in self.bars:\n",
    "            #print(bar)\n",
    "            # find the n0 index, n1 index\n",
    "            n0ind = nodes.index(bar.node0)\n",
    "            n1ind = nodes.index(bar.node1)\n",
    "            \n",
    "            \n",
    "            # replace all 16 elements\n",
    "            nom_stiff[2*n0ind:2*n0ind+2,2*n0ind:2*n0ind+2]+=bar.nom_stiff[0:2, 0:2]\n",
    "            nom_stiff[2*n0ind:2*n0ind+2,2*n1ind:2*n1ind+2]+=bar.nom_stiff[0:2, 2:4]\n",
    "            nom_stiff[2*n1ind:2*n1ind+2,2*n0ind:2*n0ind+2]+=bar.nom_stiff[2:4, 0:2]\n",
    "            nom_stiff[2*n1ind:2*n1ind+2,2*n1ind:2*n1ind+2]+=bar.nom_stiff[2:4, 2:4]\n",
    "            \n",
    "        # create force vector\n",
    "        \n",
    "        self.F = np.zeros(2*len(self.nodes))\n",
    "        for i, node in enumerate(self.nodes):\n",
    "            self.F[2*i] = node.fx\n",
    "            self.F[2*i+1] = node.fy\n",
    "            \n",
    "        # list the rows that are with fixed constraints\n",
    "        delrows = []\n",
    "        for i, node in enumerate(self.nodes):\n",
    "            if node.freex == False:\n",
    "                delrows.append(2*i)\n",
    "            if node.freey == False:\n",
    "                delrows.append(2*i+1)\n",
    "                \n",
    "        # delete rows from the stiffness matrix\n",
    "        nom_stiff = np.delete(nom_stiff, delrows, axis=0)\n",
    "        nom_stiff = np.delete(nom_stiff, delrows, axis=1)\n",
    "        self.nom_stiff = nom_stiff\n",
    "    \n",
    "        # delete rows from the force vector\n",
    "        self.F = np.delete(self.F, delrows)\n",
    "        \n",
    "        #compute the displaced structure\n",
    "        sol = np.linalg.lstsq(truss.nom_stiff, truss.F)\n",
    "        u = sol[0] # u is all the deflections of each beam\n",
    "        \n",
    "        \n",
    "        # reconstruct deformations\n",
    "        ind = 0\n",
    "        for i,node in enumerate(self.nodes):\n",
    "            if node.freex:\n",
    "                node.dx = u[ind]\n",
    "                ind += 1\n",
    "            if node.freey:\n",
    "                node.dy = u[ind]\n",
    "                ind += 1\n",
    "                \n",
    "        # create deformed truss\n",
    "        # create new bars from old bars\n",
    "        defBar = []\n",
    "        for bar in self.bars:\n",
    "            defBar.append(Bar(bar.node0, bar.node1))\n",
    "            \n",
    "        # create truss\n",
    "        self.defTruss = Truss(defBar)\n",
    "        \n",
    "        return self.defTruss\n",
    "    \n",
    "    \n",
    "            \n",
    "    def plot(self):\n",
    "        \n",
    "        #plot all bars\n",
    "        for bar in self.bars:\n",
    "            bar.plot()\n",
    "        for node in self.nodes:\n",
    "            node.plot()\n",
    "            \n",
    "        \n",
    "        \n",
    "    def extract_nodes(self,bars):\n",
    "        \n",
    "        nodes = set()\n",
    "        \n",
    "        for bar in bars:\n",
    "            nodes.add(bar.node0)\n",
    "            nodes.add(bar.node1)\n",
    "            \n",
    "        return list(nodes)\n",
    "        "
   ]
  },
  {
   "cell_type": "code",
   "execution_count": 50,
   "metadata": {},
   "outputs": [],
   "source": [
    "n0 = Node(0,0, freex=False,freey=False)\n",
    "n1 = Node(1,0, freey=False)\n",
    "n2 = Node(0,1)\n",
    "n3 = Node(1,1)\n",
    "\n",
    "n3.apply_load(0, 0.3)"
   ]
  },
  {
   "cell_type": "code",
   "execution_count": 51,
   "metadata": {},
   "outputs": [],
   "source": [
    "b0 = Bar(n0,n1)\n",
    "b1 = Bar(n0,n2)\n",
    "b2 = Bar(n0,n3)\n",
    "b3 = Bar(n1,n2)\n",
    "b4 = Bar(n1,n3)\n",
    "b5 = Bar(n2,n3)"
   ]
  },
  {
   "cell_type": "code",
   "execution_count": 52,
   "metadata": {},
   "outputs": [
    {
     "name": "stdout",
     "output_type": "stream",
     "text": [
      "[[ 1.354 -0.354 -0.354 -1.     0.   ]\n",
      " [-0.354  1.354  0.354  0.     0.   ]\n",
      " [-0.354  0.354  1.354 -0.    -0.   ]\n",
      " [-1.     0.    -0.     1.354  0.354]\n",
      " [ 0.     0.    -0.     0.354  1.354]]\n",
      "[0.  0.  0.  0.  0.3]\n"
     ]
    },
    {
     "name": "stderr",
     "output_type": "stream",
     "text": [
      "/Users/Devansh/anaconda3/lib/python3.6/site-packages/ipykernel_launcher.py:166: FutureWarning: `rcond` parameter will change to the default of machine precision times ``max(M, N)`` where M and N are the input matrix dimensions.\n",
      "To use the future default and silence this warning we advise to pass `rcond=None`, to keep using the old, explicitly pass `rcond=-1`.\n"
     ]
    }
   ],
   "source": [
    "with np.printoptions(precision=3, suppress=True):\n",
    "    truss = Truss([b0,b1,b2,b3,b4,b5])\n",
    "    defTruss=truss.solve()\n",
    "    print(truss.nom_stiff)\n",
    "    print(truss.F)"
   ]
  },
  {
   "cell_type": "code",
   "execution_count": 53,
   "metadata": {},
   "outputs": [
    {
     "data": {
      "text/plain": [
       "[N(0.00, 1.00), N(1.00, 0.00), N(0.00, 0.00), N(1.00, 1.00)]"
      ]
     },
     "execution_count": 53,
     "metadata": {},
     "output_type": "execute_result"
    }
   ],
   "source": [
    "truss.nodes"
   ]
  },
  {
   "cell_type": "code",
   "execution_count": 54,
   "metadata": {},
   "outputs": [
    {
     "data": {
      "text/plain": [
       "array([-0.15      , -0.03106602, -0.03106602, -0.18106602,  0.26893398])"
      ]
     },
     "execution_count": 54,
     "metadata": {},
     "output_type": "execute_result"
    }
   ],
   "source": [
    "truss.u"
   ]
  },
  {
   "cell_type": "code",
   "execution_count": 55,
   "metadata": {},
   "outputs": [
    {
     "data": {
      "image/png": "[encoded data removed]",
      "text/plain": [
       "<Figure size 432x288 with 1 Axes>"
      ]
     },
     "metadata": {
      "needs_background": "light"
     },
     "output_type": "display_data"
    }
   ],
   "source": [
    "defTruss.plot()\n",
    "plt.grid()"
   ]
  },
  {
   "cell_type": "code",
   "execution_count": 7,
   "metadata": {},
   "outputs": [
    {
     "data": {
      "text/plain": [
       "array([[ 1.35355339e+00, -3.53553391e-01, -3.53553391e-01,\n",
       "        -6.12323400e-17, -1.00000000e+00,  0.00000000e+00],\n",
       "       [-3.53553391e-01,  1.35355339e+00,  3.53553391e-01,\n",
       "        -1.00000000e+00,  0.00000000e+00,  0.00000000e+00],\n",
       "       [-3.53553391e-01,  3.53553391e-01,  1.35355339e+00,\n",
       "         0.00000000e+00, -3.74939946e-33, -6.12323400e-17],\n",
       "       [-6.12323400e-17, -1.00000000e+00,  0.00000000e+00,\n",
       "         1.35355339e+00, -3.53553391e-01, -3.53553391e-01],\n",
       "       [-1.00000000e+00,  0.00000000e+00, -3.74939946e-33,\n",
       "        -3.53553391e-01,  1.35355339e+00,  3.53553391e-01],\n",
       "       [ 0.00000000e+00,  0.00000000e+00, -6.12323400e-17,\n",
       "        -3.53553391e-01,  3.53553391e-01,  1.35355339e+00]])"
      ]
     },
     "execution_count": 7,
     "metadata": {},
     "output_type": "execute_result"
    }
   ],
   "source": [
    "truss.nom_stiff.transpose()"
   ]
  },
  {
   "cell_type": "code",
   "execution_count": 8,
   "metadata": {},
   "outputs": [],
   "source": [
    "sol=np.linalg.solve(truss.nom_stiff, truss.F)"
   ]
  },
  {
   "cell_type": "code",
   "execution_count": 9,
   "metadata": {},
   "outputs": [
    {
     "data": {
      "text/plain": [
       "array([ 2.70215978e+16,  2.70215978e+16, -1.65685425e+00,  2.70215978e+16,\n",
       "        2.70215978e+16,  0.00000000e+00])"
      ]
     },
     "execution_count": 9,
     "metadata": {},
     "output_type": "execute_result"
    }
   ],
   "source": [
    "sol"
   ]
  },
  {
   "cell_type": "code",
   "execution_count": 10,
   "metadata": {},
   "outputs": [
    {
     "name": "stderr",
     "output_type": "stream",
     "text": [
      "/Users/Devansh/anaconda3/lib/python3.6/site-packages/ipykernel_launcher.py:1: FutureWarning: `rcond` parameter will change to the default of machine precision times ``max(M, N)`` where M and N are the input matrix dimensions.\n",
      "To use the future default and silence this warning we advise to pass `rcond=None`, to keep using the old, explicitly pass `rcond=-1`.\n",
      "  \"\"\"Entry point for launching an IPython kernel.\n"
     ]
    },
    {
     "data": {
      "text/plain": [
       "array([-0.59466991,  0.59466991, -0.31066017,  0.90533009, -0.90533009,\n",
       "        2.68933983])"
      ]
     },
     "execution_count": 10,
     "metadata": {},
     "output_type": "execute_result"
    }
   ],
   "source": [
    "sol = np.linalg.lstsq(truss.nom_stiff, truss.F)\n",
    "sol[0]"
   ]
  },
  {
   "cell_type": "code",
   "execution_count": 11,
   "metadata": {},
   "outputs": [
    {
     "data": {
      "text/plain": [
       "(array([-0.59466991,  0.59466991, -0.31066017,  0.90533009, -0.90533009,\n",
       "         2.68933983]),\n",
       " array([], dtype=float64),\n",
       " 5,\n",
       " array([2.87177331e+00, 2.00000000e+00, 1.62570669e+00, 1.18888686e+00,\n",
       "        4.34953478e-01, 3.95030112e-17]))"
      ]
     },
     "execution_count": 11,
     "metadata": {},
     "output_type": "execute_result"
    }
   ],
   "source": [
    "sol"
   ]
  },
  {
   "cell_type": "code",
   "execution_count": 12,
   "metadata": {},
   "outputs": [
    {
     "data": {
      "text/plain": [
       "[N(0.00, 1.00), N(1.00, 0.00), N(0.00, 0.00), N(1.00, 1.00)]"
      ]
     },
     "execution_count": 12,
     "metadata": {},
     "output_type": "execute_result"
    }
   ],
   "source": [
    "truss.nodes"
   ]
  },
  {
   "cell_type": "code",
   "execution_count": 13,
   "metadata": {},
   "outputs": [
    {
     "data": {
      "image/png": "[encoded data removed]",
      "text/plain": [
       "<Figure size 432x288 with 1 Axes>"
      ]
     },
     "metadata": {
      "needs_background": "light"
     },
     "output_type": "display_data"
    }
   ],
   "source": [
    "truss.plot()"
   ]
  },
  {
   "cell_type": "code",
   "execution_count": 14,
   "metadata": {},
   "outputs": [
    {
     "data": {
      "image/png": "[encoded data removed]",
      "text/plain": [
       "<Figure size 432x288 with 1 Axes>"
      ]
     },
     "metadata": {
      "needs_background": "light"
     },
     "output_type": "display_data"
    }
   ],
   "source": [
    "truss.plot()"
   ]
  },
  {
   "cell_type": "code",
   "execution_count": 15,
   "metadata": {},
   "outputs": [
    {
     "data": {
      "text/plain": [
       "{'x': 0,\n",
       " 'y': 0,\n",
       " 'pos': array([0, 0]),\n",
       " 'freex': False,\n",
       " 'freey': True,\n",
       " 'dx': 0,\n",
       " 'dy': 0.9053300858899105,\n",
       " 'fx': 0,\n",
       " 'fy': 0}"
      ]
     },
     "execution_count": 15,
     "metadata": {},
     "output_type": "execute_result"
    }
   ],
   "source": [
    "n0.__dict__"
   ]
  },
  {
   "cell_type": "code",
   "execution_count": 16,
   "metadata": {},
   "outputs": [],
   "source": [
    "n0ind=0\n",
    "n1ind=2"
   ]
  },
  {
   "cell_type": "code",
   "execution_count": 17,
   "metadata": {},
   "outputs": [
    {
     "name": "stdout",
     "output_type": "stream",
     "text": [
      "[[ 1.354 -0.354 -0.354 -0.    -1.     0.   ]\n",
      " [-0.354  1.354  0.354 -1.     0.     0.   ]\n",
      " [-0.354  0.354  1.354  0.    -0.    -0.   ]\n",
      " [-0.    -1.     0.     1.354 -0.354 -0.354]\n",
      " [-1.     0.    -0.    -0.354  1.354  0.354]\n",
      " [ 0.     0.    -0.    -0.354  0.354  1.354]]\n"
     ]
    }
   ],
   "source": [
    "with np.printoptions(precision=3, suppress=True):\n",
    "    print(truss.nom_stiff)"
   ]
  },
  {
   "cell_type": "code",
   "execution_count": null,
   "metadata": {},
   "outputs": [],
   "source": []
  },
  {
   "cell_type": "code",
   "execution_count": 18,
   "metadata": {},
   "outputs": [],
   "source": [
    "n = len(truss.nodes)\n",
    "A = 1.0*np.random.randint(low=0, high=10, size=(2*n, 2*n))"
   ]
  },
  {
   "cell_type": "code",
   "execution_count": 19,
   "metadata": {},
   "outputs": [
    {
     "data": {
      "text/plain": [
       "array([[3., 6., 4., 0., 1., 9., 6., 2.],\n",
       "       [4., 2., 3., 8., 9., 8., 0., 2.],\n",
       "       [2., 2., 2., 9., 7., 0., 6., 4.],\n",
       "       [7., 9., 4., 8., 4., 5., 9., 5.],\n",
       "       [3., 9., 5., 5., 0., 9., 6., 2.],\n",
       "       [2., 9., 9., 5., 0., 5., 8., 5.],\n",
       "       [7., 1., 3., 1., 1., 5., 0., 4.],\n",
       "       [0., 1., 4., 5., 9., 7., 0., 9.]])"
      ]
     },
     "execution_count": 19,
     "metadata": {},
     "output_type": "execute_result"
    }
   ],
   "source": [
    "A"
   ]
  },
  {
   "cell_type": "code",
   "execution_count": 20,
   "metadata": {},
   "outputs": [],
   "source": [
    "A[n0ind:n0ind+2,n1ind:n1ind+2]+=b0.nom_stiff[0:2, 0:2]"
   ]
  },
  {
   "cell_type": "code",
   "execution_count": 21,
   "metadata": {},
   "outputs": [
    {
     "data": {
      "text/plain": [
       "array([[ 1.,  0., -1., -0.],\n",
       "       [ 0.,  0., -0., -0.],\n",
       "       [-1., -0.,  1.,  0.],\n",
       "       [-0., -0.,  0.,  0.]])"
      ]
     },
     "execution_count": 21,
     "metadata": {},
     "output_type": "execute_result"
    }
   ],
   "source": [
    "b0.nom_stiff"
   ]
  },
  {
   "cell_type": "code",
   "execution_count": 22,
   "metadata": {},
   "outputs": [
    {
     "data": {
      "text/plain": [
       "array([[3., 6., 5., 0., 1., 9., 6., 2.],\n",
       "       [4., 2., 3., 8., 9., 8., 0., 2.],\n",
       "       [2., 2., 2., 9., 7., 0., 6., 4.],\n",
       "       [7., 9., 4., 8., 4., 5., 9., 5.],\n",
       "       [3., 9., 5., 5., 0., 9., 6., 2.],\n",
       "       [2., 9., 9., 5., 0., 5., 8., 5.],\n",
       "       [7., 1., 3., 1., 1., 5., 0., 4.],\n",
       "       [0., 1., 4., 5., 9., 7., 0., 9.]])"
      ]
     },
     "execution_count": 22,
     "metadata": {},
     "output_type": "execute_result"
    }
   ],
   "source": [
    "A"
   ]
  },
  {
   "cell_type": "code",
   "execution_count": 23,
   "metadata": {},
   "outputs": [
    {
     "data": {
      "text/plain": [
       "array([[ 0.35355339, -0.35355339, -0.35355339,  0.35355339],\n",
       "       [-0.35355339,  0.35355339,  0.35355339, -0.35355339],\n",
       "       [-0.35355339,  0.35355339,  0.35355339, -0.35355339],\n",
       "       [ 0.35355339, -0.35355339, -0.35355339,  0.35355339]])"
      ]
     },
     "execution_count": 23,
     "metadata": {},
     "output_type": "execute_result"
    }
   ],
   "source": [
    "b3.nom_stiff"
   ]
  },
  {
   "cell_type": "code",
   "execution_count": 24,
   "metadata": {},
   "outputs": [
    {
     "data": {
      "text/plain": [
       "array([[-0.35355339,  0.35355339],\n",
       "       [ 0.35355339, -0.35355339]])"
      ]
     },
     "execution_count": 24,
     "metadata": {},
     "output_type": "execute_result"
    }
   ],
   "source": [
    "b3.nom_stiff[0:2, 2:4]"
   ]
  },
  {
   "cell_type": "code",
   "execution_count": 58,
   "metadata": {},
   "outputs": [],
   "source": [
    "import scipy as sp\n",
    "\n",
    "points = np.array([[n.x, n.y] for n in [n0, n1, n2, n3]])\n",
    "\n",
    "d=sp.spatial.Delaunay(points)"
   ]
  },
  {
   "cell_type": "code",
   "execution_count": 60,
   "metadata": {},
   "outputs": [
    {
     "data": {
      "text/plain": [
       "array([[-1,  1, -1],\n",
       "       [ 0, -1, -1]], dtype=int32)"
      ]
     },
     "execution_count": 60,
     "metadata": {},
     "output_type": "execute_result"
    }
   ],
   "source": [
    "d.neighbors"
   ]
  },
  {
   "cell_type": "code",
   "execution_count": 62,
   "metadata": {},
   "outputs": [
    {
     "data": {
      "text/plain": [
       "array([[3, 2, 0],\n",
       "       [1, 3, 0]], dtype=int32)"
      ]
     },
     "execution_count": 62,
     "metadata": {},
     "output_type": "execute_result"
    }
   ],
   "source": [
    "d.simplices"
   ]
  },
  {
   "cell_type": "code",
   "execution_count": 64,
   "metadata": {},
   "outputs": [
    {
     "data": {
      "text/plain": [
       "[<matplotlib.lines.Line2D at 0x11b5a26a0>,\n",
       " <matplotlib.lines.Line2D at 0x11b5a2630>]"
      ]
     },
     "execution_count": 64,
     "metadata": {},
     "output_type": "execute_result"
    },
    {
     "data": {
      "image/png": "[encoded data removed]",
      "text/plain": [
       "<Figure size 432x288 with 1 Axes>"
      ]
     },
     "metadata": {
      "needs_background": "light"
     },
     "output_type": "display_data"
    }
   ],
   "source": [
    "plt.triplot(points[:,0], points[:,1], d.simplices.copy())"
   ]
  },
  {
   "cell_type": "code",
   "execution_count": 65,
   "metadata": {},
   "outputs": [],
   "source": []
  },
  {
   "cell_type": "code",
   "execution_count": 67,
   "metadata": {},
   "outputs": [
    {
     "data": {
      "text/plain": [
       "[1, 2, 3]"
      ]
     },
     "execution_count": 67,
     "metadata": {},
     "output_type": "execute_result"
    }
   ],
   "source": [
    "find_neighbors(0, d)"
   ]
  },
  {
   "cell_type": "code",
   "execution_count": 68,
   "metadata": {},
   "outputs": [
    {
     "data": {
      "text/plain": [
       "[0, 3]"
      ]
     },
     "execution_count": 68,
     "metadata": {},
     "output_type": "execute_result"
    }
   ],
   "source": [
    "find_neighbors(1, d)"
   ]
  },
  {
   "cell_type": "code",
   "execution_count": 69,
   "metadata": {},
   "outputs": [],
   "source": [
    "nodes = [Node(np.random.rand(), np.random.rand()) for n in range(10)]"
   ]
  },
  {
   "cell_type": "code",
   "execution_count": 72,
   "metadata": {},
   "outputs": [
    {
     "data": {
      "text/plain": [
       "[None, None, None, None, None, None, None, None, None, None]"
      ]
     },
     "execution_count": 72,
     "metadata": {},
     "output_type": "execute_result"
    },
    {
     "data": {
      "image/png": "[encoded data removed]",
      "text/plain": [
       "<Figure size 432x288 with 1 Axes>"
      ]
     },
     "metadata": {
      "needs_background": "light"
     },
     "output_type": "display_data"
    }
   ],
   "source": [
    "[n.plot() for n in nodes]"
   ]
  },
  {
   "cell_type": "code",
   "execution_count": 73,
   "metadata": {},
   "outputs": [],
   "source": [
    "node_points = np.array([[n.x, n.y] for n in nodes])"
   ]
  },
  {
   "cell_type": "code",
   "execution_count": 75,
   "metadata": {},
   "outputs": [],
   "source": [
    "d = sp.spatial.Delaunay(node_points)"
   ]
  },
  {
   "cell_type": "code",
   "execution_count": 76,
   "metadata": {},
   "outputs": [
    {
     "data": {
      "text/plain": [
       "<scipy.spatial.qhull.Delaunay at 0x11b8241d0>"
      ]
     },
     "execution_count": 76,
     "metadata": {},
     "output_type": "execute_result"
    }
   ],
   "source": [
    "d"
   ]
  },
  {
   "cell_type": "code",
   "execution_count": 77,
   "metadata": {},
   "outputs": [
    {
     "data": {
      "text/plain": [
       "[<matplotlib.lines.Line2D at 0x1243a6e48>,\n",
       " <matplotlib.lines.Line2D at 0x1243a6f98>]"
      ]
     },
     "execution_count": 77,
     "metadata": {},
     "output_type": "execute_result"
    },
    {
     "data": {
      "image/png": "[encoded data removed]",
      "text/plain": [
       "<Figure size 432x288 with 1 Axes>"
      ]
     },
     "metadata": {
      "needs_background": "light"
     },
     "output_type": "display_data"
    }
   ],
   "source": [
    "plt.triplot(node_points[:,0], node_points[:,1], d.simplices.copy())"
   ]
  },
  {
   "cell_type": "code",
   "execution_count": 78,
   "metadata": {},
   "outputs": [
    {
     "data": {
      "text/plain": [
       "[9, 4, 5, 7]"
      ]
     },
     "execution_count": 78,
     "metadata": {},
     "output_type": "execute_result"
    }
   ],
   "source": [
    "find_neighbors(0, d)"
   ]
  },
  {
   "cell_type": "code",
   "execution_count": 107,
   "metadata": {},
   "outputs": [],
   "source": [
    "# function to find the neighbors of a node\n",
    "find_neighbors = lambda x,triang: list(set(indx for simplex in triang.simplices if x in simplex for indx in simplex if indx !=x))\n",
    "\n",
    "def create_delaunay_Truss(nodes):\n",
    "    \n",
    "    # create numpy nodes array\n",
    "    node_points = np.array([[n.x, n.y] for n in nodes])\n",
    "\n",
    "    # perform the triangulation\n",
    "    d = sp.spatial.Delaunay(node_points)\n",
    "    \n",
    "    bars = []\n",
    "    \n",
    "    for i, node in enumerate(nodes):\n",
    "        \n",
    "        neighbors = find_neighbors(i, d)\n",
    "        for n in neighbors:\n",
    "            #print(i, n)\n",
    "            #b = Bar(node, nodes[n])\n",
    "            #print(b)\n",
    "            #bars.append(b)\n",
    "        bars.extend([Bar(node, nodes[n]) for n in neighbors])\n",
    "\n",
    "    return Truss(bars)\n",
    "    "
   ]
  },
  {
   "cell_type": "code",
   "execution_count": 109,
   "metadata": {},
   "outputs": [
    {
     "name": "stdout",
     "output_type": "stream",
     "text": [
      "[[0.35943616 0.8087459 ]\n",
      " [0.94079412 0.62657453]\n",
      " [0.7999938  0.07955648]\n",
      " [0.5550887  0.36441583]\n",
      " [0.22878639 0.07473198]\n",
      " [0.38114382 0.6121628 ]\n",
      " [0.6889194  0.94817664]\n",
      " [0.43887816 0.88978575]\n",
      " [0.55146314 0.68734474]\n",
      " [0.37682729 0.74463437]]\n",
      "<scipy.spatial.qhull.Delaunay object at 0x1248cfcf8>\n",
      "0 9\n",
      "0 4\n",
      "0 5\n",
      "0 7\n",
      "1 8\n",
      "1 2\n",
      "1 3\n",
      "1 6\n",
      "2 1\n",
      "2 3\n",
      "2 4\n",
      "3 1\n",
      "3 2\n",
      "3 4\n",
      "3 5\n",
      "3 8\n",
      "4 0\n",
      "4 2\n",
      "4 3\n",
      "4 5\n",
      "5 0\n",
      "5 3\n",
      "5 4\n",
      "5 8\n",
      "5 9\n",
      "6 8\n",
      "6 1\n",
      "6 7\n",
      "7 8\n",
      "7 9\n",
      "7 6\n",
      "7 0\n",
      "8 1\n",
      "8 3\n",
      "8 5\n",
      "8 6\n",
      "8 7\n",
      "8 9\n",
      "9 8\n",
      "9 0\n",
      "9 5\n",
      "9 7\n"
     ]
    },
    {
     "data": {
      "image/png": "[encoded data removed]",
      "text/plain": [
       "<Figure size 432x288 with 1 Axes>"
      ]
     },
     "metadata": {
      "needs_background": "light"
     },
     "output_type": "display_data"
    }
   ],
   "source": [
    "bars = create_delaunay_bars(nodes)"
   ]
  },
  {
   "cell_type": "code",
   "execution_count": 110,
   "metadata": {},
   "outputs": [],
   "source": [
    "t=Truss(bars)"
   ]
  },
  {
   "cell_type": "code",
   "execution_count": 111,
   "metadata": {},
   "outputs": [
    {
     "data": {
      "image/png": "[encoded data removed]",
      "text/plain": [
       "<Figure size 432x288 with 1 Axes>"
      ]
     },
     "metadata": {
      "needs_background": "light"
     },
     "output_type": "display_data"
    }
   ],
   "source": [
    "t.plot()"
   ]
  },
  {
   "cell_type": "code",
   "execution_count": null,
   "metadata": {},
   "outputs": [],
   "source": []
  }
 ],
 "metadata": {
  "kernelspec": {
   "display_name": "Python 3",
   "language": "python",
   "name": "python3"
  },
  "language_info": {
   "codemirror_mode": {
    "name": "ipython",
    "version": 3
   },
   "file_extension": ".py",
   "mimetype": "text/x-python",
   "name": "python",
   "nbconvert_exporter": "python",
   "pygments_lexer": "ipython3",
   "version": "3.6.7"
  }
 },
 "nbformat": 4,
 "nbformat_minor": 2
}
