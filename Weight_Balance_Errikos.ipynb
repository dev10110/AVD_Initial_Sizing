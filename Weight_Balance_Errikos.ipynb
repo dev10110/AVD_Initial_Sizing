{
 "cells": [
  {
   "cell_type": "markdown",
   "metadata": {},
   "source": [
    "# Weight and Balance Estimation for Transport Aircraft\n",
    "Use equations provided by Errikos, \n",
    "https://bb.imperial.ac.uk/bbcswebdav/pid-1652824-dt-content-rid-5338289_1/courses/10034.201910/weightNew.pdf\n",
    "\n",
    "\"\"\"\n",
    "\n",
    "During the preliminary sizing process, a reasonable estimate for aircraft weight must be obtained. The rough methods used during initial sizing are not dependent on any design parameters other than Maximum Take-off Weight (Wo).\n",
    "\n",
    "To factor in the effect that individual design parameters, such as wing span or fuselage length may have on the overall aircraft weight, the structural weight of individual components and systems is estimated.\n",
    "\n",
    "The methods presented below are a combination of those provided by Raymer and Torenbeek. They are based on statistical analyses of component weights from existing or past aircraft designs and are therefore strictly only valid for metallic construction of conventional design. Note that all units are imperial and are given in section 5.\n",
    "\n",
    "\"\"\"\n",
    "\n",
    "### All equations use imperial units"
   ]
  },
  {
   "cell_type": "code",
   "execution_count": 1,
   "metadata": {
    "scrolled": true
   },
   "outputs": [],
   "source": [
    "# add paths to models.py if necessary\n",
    "import sys\n",
    "sys.path\n",
    "sys.path.append('C:\\\\Users\\\\yurio\\\\Documents\\\\localpy\\\\AVD_Initial_Sizing-master')\n",
    "\n",
    "from models.models import *\n",
    "import pint\n",
    "u = pint.UnitRegistry()\n",
    "import prettytable\n",
    "import numpy as np"
   ]
  },
  {
   "cell_type": "code",
   "execution_count": 2,
   "metadata": {},
   "outputs": [],
   "source": [
    "# equation parameters\n",
    "MTOW = 17918*u.kg\n",
    "Wdg = MTOW.to(u.lb).magnitude # in [lb]\n",
    "\n",
    "limitloadfactor = 1\n",
    "Nz = 1.5*limitloadfactor\n",
    "\n",
    "# obtain populated aircraft object from separate notebook\n",
    "x_percentage = 0.5\n",
    "sweep = 30*u.deg\n",
    "taperRatio = 0.3\n",
    "area = 41*u.m**2\n",
    "aspectRatio = 8\n",
    "dihedral = 3*u.deg\n",
    "wing = Wing(x_percentage, sweep, taperRatio, area, aspectRatio, dihedral)\n",
    "\n",
    "\n",
    "# append undefined parameters to aircraft object...\n",
    "#wing = Wing()\n",
    "#aircraft.Wing.area_controlsurface = 0.1*Wing\n",
    "#myaircraft = Aircraft(self, fuselage, wing, engines, horizontalStabilizer, verticalStabilizer)"
   ]
  },
  {
   "cell_type": "code",
   "execution_count": null,
   "metadata": {},
   "outputs": [],
   "source": [
    "# functions to extract parameters used in equations\n",
    "def extract_from_wing(aircraft):\n",
    "    AR      = aircraft.Wing.aspectRatio\n",
    "    Scsw    = aircraft.Wing.area_csw\n",
    "    Sw      = aircraft.Wing.area\n",
    "    tc_root = aircraft.Wing.thicknessToChord_root\n",
    "    Lambda  = aircraft.Wing.sweep\n",
    "    lamb    = aircraft.Wing.taperRatio\n",
    "\n",
    "    return AR,Scsw,Sw,tc_root,Lambda,lamb\n",
    "\n",
    "def extract_from_Htail(aircraft):\n",
    "\n",
    "    \n",
    "Kuht = 1.143\n",
    "    \n",
    "\n",
    "\n",
    "AR,Scsw,Sw,tc_root,Lambda,lamb = extract_from_wing(athena)\n",
    "\n"
   ]
  },
  {
   "cell_type": "markdown",
   "metadata": {},
   "source": [
    "## Weight estimate equations"
   ]
  },
  {
   "cell_type": "markdown",
   "metadata": {},
   "source": [
    "### Weight estimates for aerodynamic surfaces"
   ]
  },
  {
   "cell_type": "code",
   "execution_count": 3,
   "metadata": {},
   "outputs": [
    {
     "ename": "NameError",
     "evalue": "name 'Sw' is not defined",
     "output_type": "error",
     "traceback": [
      "\u001b[1;31m---------------------------------------------------------------------------\u001b[0m",
      "\u001b[1;31mNameError\u001b[0m                                 Traceback (most recent call last)",
      "\u001b[1;32m<ipython-input-3-7fa08214840f>\u001b[0m in \u001b[0;36m<module>\u001b[1;34m\u001b[0m\n\u001b[0;32m      1\u001b[0m \u001b[1;31m# Aircraft wings\u001b[0m\u001b[1;33m\u001b[0m\u001b[1;33m\u001b[0m\u001b[1;33m\u001b[0m\u001b[0m\n\u001b[1;32m----> 2\u001b[1;33m \u001b[0mW_wing\u001b[0m \u001b[1;33m=\u001b[0m \u001b[1;36m0.0051\u001b[0m \u001b[1;33m*\u001b[0m \u001b[1;33m(\u001b[0m\u001b[0mWdg\u001b[0m\u001b[1;33m*\u001b[0m\u001b[0mNz\u001b[0m\u001b[1;33m)\u001b[0m\u001b[1;33m**\u001b[0m\u001b[1;36m0.557\u001b[0m \u001b[1;33m*\u001b[0m \u001b[0mSw\u001b[0m\u001b[1;33m**\u001b[0m\u001b[1;36m0.649\u001b[0m \u001b[1;33m*\u001b[0m \u001b[0mAR\u001b[0m\u001b[1;33m**\u001b[0m\u001b[1;36m0.5\u001b[0m \u001b[1;33m*\u001b[0m \u001b[1;33m(\u001b[0m\u001b[1;36m1\u001b[0m\u001b[1;33m+\u001b[0m\u001b[0mlamb\u001b[0m\u001b[1;33m)\u001b[0m\u001b[1;33m**\u001b[0m\u001b[1;36m0.1\u001b[0m \u001b[1;33m*\u001b[0m \u001b[0mScsw\u001b[0m\u001b[1;33m**\u001b[0m\u001b[1;36m0.1\u001b[0m \u001b[1;33m/\u001b[0m \u001b[1;33m(\u001b[0m\u001b[0mnp\u001b[0m\u001b[1;33m.\u001b[0m\u001b[0mcos\u001b[0m\u001b[1;33m(\u001b[0m\u001b[0mLambda\u001b[0m \u001b[1;33m*\u001b[0m \u001b[0mtc_root\u001b[0m\u001b[1;33m**\u001b[0m\u001b[1;36m0.4\u001b[0m\u001b[1;33m)\u001b[0m\u001b[1;33m)\u001b[0m\u001b[1;33m\u001b[0m\u001b[1;33m\u001b[0m\u001b[0m\n\u001b[0m\u001b[0;32m      3\u001b[0m \u001b[1;33m\u001b[0m\u001b[0m\n",
      "\u001b[1;31mNameError\u001b[0m: name 'Sw' is not defined"
     ]
    }
   ],
   "source": [
    "# Aircraft wings\n",
    "W_wing = 0.0051 * (Wdg*Nz)**0.557 * Sw**0.649 * AR**0.5 * (1+lamb)**0.1 * Scsw**0.1 / (np.cos(Lambda * tc_root**0.4))\n",
    "\n",
    "# horizontal taiplane\n",
    "\n",
    "\n",
    "# vertical taiplane\n",
    "\n"
   ]
  },
  {
   "cell_type": "code",
   "execution_count": null,
   "metadata": {},
   "outputs": [],
   "source": []
  },
  {
   "cell_type": "code",
   "execution_count": null,
   "metadata": {},
   "outputs": [],
   "source": [
    "5**2.2"
   ]
  },
  {
   "cell_type": "code",
   "execution_count": null,
   "metadata": {},
   "outputs": [],
   "source": []
  }
 ],
 "metadata": {
  "kernelspec": {
   "display_name": "Python 3",
   "language": "python",
   "name": "python3"
  },
  "language_info": {
   "codemirror_mode": {
    "name": "ipython",
    "version": 3
   },
   "file_extension": ".py",
   "mimetype": "text/x-python",
   "name": "python",
   "nbconvert_exporter": "python",
   "pygments_lexer": "ipython3",
   "version": "3.7.3"
  }
 },
 "nbformat": 4,
 "nbformat_minor": 2
}
