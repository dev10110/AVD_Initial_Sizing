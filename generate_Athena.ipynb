{
 "cells": [
  {
   "cell_type": "code",
   "execution_count": 1,
   "metadata": {},
   "outputs": [],
   "source": [
    "from models.models import *\n",
    "import pint\n",
    "u = pint.UnitRegistry()"
   ]
  },
  {
   "cell_type": "code",
   "execution_count": 2,
   "metadata": {},
   "outputs": [
    {
     "data": {
      "text/plain": [
       "\n",
       " Object: Aircraft\n",
       "fuselage \t \n",
       " -->  Object: Fuselage\n",
       " --> centreFuselage \t \n",
       " -->  -->  Object: CentreFuselage\n",
       " --> afterbody \t \n",
       " -->  -->  Object: Afterbody\n",
       " --> nose \t \n",
       " -->  -->  Object: Nose\n",
       " -->  --> _diameter \t None\n",
       " -->  --> _noseLDRatio \t None\n",
       "wing \t \n",
       " -->  Object: Wing\n",
       " --> _loc_x \t None\n",
       " --> _loc_z \t None\n",
       " --> _sweep \t None\n",
       " --> _taperRatio \t None\n",
       " --> _area \t None\n",
       " --> _aspectRatio \t None\n",
       " --> _dihedral \t None\n",
       "engines \t \n",
       " -->  Object: Engine\n",
       "horizontalStabilizer \t \n",
       " -->  Object: HorizontalStabilizer\n",
       " --> _loc_x \t None\n",
       " --> _loc_y \t None\n",
       " --> _loc_z \t None\n",
       " --> _sweep \t None\n",
       " --> _taperRatio \t None\n",
       " --> _area \t None\n",
       " --> _aspectRatio \t None\n",
       "verticalStabilizer \t \n",
       " -->  Object: VerticalStabilizer\n",
       " --> _loc_x \t None\n",
       " --> _loc_z \t None\n",
       " --> _area \t None\n",
       "_TW \t 0.35"
      ]
     },
     "execution_count": 2,
     "metadata": {},
     "output_type": "execute_result"
    }
   ],
   "source": [
    "# create fuselage\n",
    "centerFuselage = CentreFuselage()\n",
    "afterbody = Afterbody()\n",
    "nose = Nose()\n",
    "\n",
    "fuselage = Fuselage(centerFuselage, afterbody, nose)\n",
    "\n",
    "#create wings\n",
    "wing = Wing()\n",
    "\n",
    "# create engines\n",
    "engines = Engine()\n",
    "\n",
    "# create horz stab\n",
    "horzStab = HorizontalStabilizer()\n",
    "\n",
    "# create vert stab\n",
    "vertStab = VerticalStabilizer()\n",
    "\n",
    "# create ac\n",
    "athena = Aircraft(fuselage, wing, engines, horzStab, vertStab)\n",
    "athena"
   ]
  },
  {
   "cell_type": "code",
   "execution_count": 10,
   "metadata": {},
   "outputs": [
    {
     "data": {
      "text/plain": [
       "0.4"
      ]
     },
     "execution_count": 10,
     "metadata": {},
     "output_type": "execute_result"
    }
   ],
   "source": [
    "athena.TW"
   ]
  },
  {
   "cell_type": "code",
   "execution_count": 9,
   "metadata": {},
   "outputs": [],
   "source": [
    "athena.TW = 0.4"
   ]
  },
  {
   "cell_type": "code",
   "execution_count": 5,
   "metadata": {},
   "outputs": [],
   "source": [
    "# create fuselage\n",
    "#diameter=2.55*u.m, length=28*u.m\n",
    "\n",
    "\n",
    "# create afterbody\n",
    "#diameter=centerFuselage.diameter, afterbodyLDRatio=3\n",
    "\n",
    "\n",
    "# create nose\n",
    "#centerFuselage.diameter, noseLDRatio=3\n"
   ]
  },
  {
   "cell_type": "code",
   "execution_count": null,
   "metadata": {},
   "outputs": [],
   "source": []
  },
  {
   "cell_type": "code",
   "execution_count": 6,
   "metadata": {},
   "outputs": [
    {
     "name": "stdout",
     "output_type": "stream",
     "text": [
      "\n",
      " Object: Fuselage\n",
      "centreFuselage \t \n",
      " -->  Object: CentreFuselage\n",
      "afterbody \t \n",
      " -->  Object: Afterbody\n",
      "nose \t \n",
      " -->  Object: Nose\n",
      " --> _diameter \t None\n",
      " --> _noseLDRatio \t None\n"
     ]
    }
   ],
   "source": [
    "print(fuselage)"
   ]
  },
  {
   "cell_type": "code",
   "execution_count": 7,
   "metadata": {},
   "outputs": [],
   "source": [
    "x_percentage = 0.5\n",
    "sweep = 30*u.deg\n",
    "taperRatio = 0.3\n",
    "area = 41*u.m**2\n",
    "aspectRatio = 8\n",
    "dihedral = 3*u.deg\n",
    "\n",
    "\n"
   ]
  },
  {
   "cell_type": "code",
   "execution_count": null,
   "metadata": {
    "scrolled": true
   },
   "outputs": [],
   "source": []
  },
  {
   "cell_type": "code",
   "execution_count": 8,
   "metadata": {},
   "outputs": [
    {
     "ename": "TypeError",
     "evalue": "__init__() got an unexpected keyword argument 'x_percentage'",
     "output_type": "error",
     "traceback": [
      "\u001b[0;31m---------------------------------------------------------------------------\u001b[0m",
      "\u001b[0;31mTypeError\u001b[0m                                 Traceback (most recent call last)",
      "\u001b[0;32m<ipython-input-8-2fcec08c2de8>\u001b[0m in \u001b[0;36m<module>\u001b[0;34m\u001b[0m\n\u001b[1;32m      4\u001b[0m \u001b[0mdiameter\u001b[0m \u001b[0;34m=\u001b[0m \u001b[0;36m1.607\u001b[0m\u001b[0;34m*\u001b[0m\u001b[0mu\u001b[0m\u001b[0;34m.\u001b[0m\u001b[0mm\u001b[0m\u001b[0;34m\u001b[0m\u001b[0;34m\u001b[0m\u001b[0m\n\u001b[1;32m      5\u001b[0m \u001b[0mnumber\u001b[0m \u001b[0;34m=\u001b[0m \u001b[0;36m2\u001b[0m\u001b[0;34m\u001b[0m\u001b[0;34m\u001b[0m\u001b[0m\n\u001b[0;32m----> 6\u001b[0;31m \u001b[0mengines\u001b[0m \u001b[0;34m=\u001b[0m \u001b[0mEngine\u001b[0m\u001b[0;34m(\u001b[0m\u001b[0mx_percentage\u001b[0m \u001b[0;34m=\u001b[0m \u001b[0;36m0.8\u001b[0m\u001b[0;34m,\u001b[0m \u001b[0mbypassRatio\u001b[0m\u001b[0;34m=\u001b[0m\u001b[0mbypassRatio\u001b[0m\u001b[0;34m,\u001b[0m \u001b[0mdesignThrust\u001b[0m\u001b[0;34m=\u001b[0m\u001b[0mdesignThrust\u001b[0m\u001b[0;34m,\u001b[0m \u001b[0mdiameter\u001b[0m\u001b[0;34m=\u001b[0m\u001b[0mdiameter\u001b[0m\u001b[0;34m,\u001b[0m \u001b[0mnumber\u001b[0m\u001b[0;34m=\u001b[0m\u001b[0mnumber\u001b[0m\u001b[0;34m)\u001b[0m\u001b[0;34m\u001b[0m\u001b[0;34m\u001b[0m\u001b[0m\n\u001b[0m",
      "\u001b[0;31mTypeError\u001b[0m: __init__() got an unexpected keyword argument 'x_percentage'"
     ]
    }
   ],
   "source": [
    "x_percentage = 0.8\n",
    "bypassRatio = 5.7\n",
    "designThrust = 60*u.kN\n",
    "diameter = 1.607*u.m\n",
    "number = 2\n",
    "engines = Engine(x_percentage = 0.8, bypassRatio=bypassRatio, designThrust=designThrust, diameter=diameter, number=number)"
   ]
  },
  {
   "cell_type": "code",
   "execution_count": null,
   "metadata": {},
   "outputs": [],
   "source": [
    "x_percentage = 0.9\n",
    "y_percentage = 0.2\n",
    "z_percentage = 1\n",
    "sweep = 30*u.deg\n",
    "taperRatio = 0.5\n",
    "area = 5*u.m**2\n",
    "aspectRatio = 4\n",
    "areaRatio\n",
    "horzStab = HorizontalStabilizer(x_percentage, y_percentage, z_percentage, sweep, taperRatio, area, aspectRatio, areaRatio)\n"
   ]
  },
  {
   "cell_type": "code",
   "execution_count": null,
   "metadata": {},
   "outputs": [],
   "source": [
    "Aircraft(fuselage, wing, engines, horzStab, vertStab)"
   ]
  },
  {
   "cell_type": "code",
   "execution_count": null,
   "metadata": {},
   "outputs": [],
   "source": [
    "models"
   ]
  },
  {
   "cell_type": "code",
   "execution_count": null,
   "metadata": {},
   "outputs": [],
   "source": [
    "models.Engine()"
   ]
  },
  {
   "cell_type": "code",
   "execution_count": null,
   "metadata": {},
   "outputs": [],
   "source": []
  }
 ],
 "metadata": {
  "kernelspec": {
   "display_name": "Python 3",
   "language": "python",
   "name": "python3"
  },
  "language_info": {
   "codemirror_mode": {
    "name": "ipython",
    "version": 3
   },
   "file_extension": ".py",
   "mimetype": "text/x-python",
   "name": "python",
   "nbconvert_exporter": "python",
   "pygments_lexer": "ipython3",
   "version": "3.6.7"
  }
 },
 "nbformat": 4,
 "nbformat_minor": 2
}
